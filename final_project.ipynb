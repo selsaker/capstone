{
 "cells": [
  {
   "cell_type": "code",
   "execution_count": null,
   "metadata": {},
   "outputs": [],
   "source": [
    "# importing packages\n",
    "import numpy as np\n",
    "import pandas as pd\n",
    "import sqlite3\n",
    "import scipy.stats as stats\n",
    "import matplotlib.pyplot as plt\n",
    "import seaborn as sns\n"
   ]
  },
  {
   "cell_type": "code",
   "execution_count": null,
   "metadata": {},
   "outputs": [],
   "source": [
    "# importing zipped csv data\n",
    "DataSet = pd.read_csv('Data/Marriage_Divorce_DataSet.csv.gz', compression = 'gzip')\n"
   ]
  },
  {
   "cell_type": "code",
   "execution_count": null,
   "metadata": {},
   "outputs": [],
   "source": [
    "# importing database file\n",
    "\n",
    "#OLD CODE FOR REFERENCE DB \n",
    "#conn = sqlite3.connect('Data/im.db')\n",
    "#persons = pd.read_sql(\"\"\"SELECT * FROM persons\"\"\", conn)\n",
    "#principals = pd.read_sql(\"\"\"SELECT * FROM principals\"\"\", conn)\n",
    "#known_for = pd.read_sql(\"\"\"SELECT * FROM known_for\"\"\", conn)\n",
    "#directors = pd.read_sql(\"\"\"SELECT * FROM directors\"\"\", conn)\n",
    "#writers = known_for = pd.read_sql(\"\"\"SELECT * FROM writers\"\"\", conn)\n",
    "#movie_basics = pd.read_sql(\"\"\"SELECT * FROM movie_basics\"\"\", conn)\n",
    "#movie_ratings = pd.read_sql(\"\"\"SELECT * FROM movie_ratings\"\"\", conn)\n",
    "#movie_akas = pd.read_sql(\"\"\"SELECT * FROM movie_akas\"\"\", conn)"
   ]
  },
  {
   "cell_type": "code",
   "execution_count": 1,
   "metadata": {},
   "outputs": [
    {
     "ename": "NameError",
     "evalue": "name 'DataSet' is not defined",
     "output_type": "error",
     "traceback": [
      "\u001b[1;31m---------------------------------------------------------------------------\u001b[0m",
      "\u001b[1;31mNameError\u001b[0m                                 Traceback (most recent call last)",
      "\u001b[1;32m<ipython-input-1-ebaa4fd49fd9>\u001b[0m in \u001b[0;36m<module>\u001b[1;34m\u001b[0m\n\u001b[1;32m----> 1\u001b[1;33m \u001b[0mDataSet\u001b[0m\u001b[1;33m.\u001b[0m\u001b[0mdtypes\u001b[0m\u001b[1;33m\u001b[0m\u001b[1;33m\u001b[0m\u001b[0m\n\u001b[0m",
      "\u001b[1;31mNameError\u001b[0m: name 'DataSet' is not defined"
     ]
    }
   ],
   "source": [
    "DataSet.dtypes"
   ]
  },
  {
   "cell_type": "code",
   "execution_count": null,
   "metadata": {},
   "outputs": [],
   "source": [
    "DataSet.head()"
   ]
  },
  {
   "cell_type": "code",
   "execution_count": null,
   "metadata": {},
   "outputs": [],
   "source": []
  }
 ],
 "metadata": {
  "kernelspec": {
   "display_name": "Python (learn-env)",
   "language": "python",
   "name": "learn-env"
  },
  "language_info": {
   "codemirror_mode": {
    "name": "ipython",
    "version": 3
   },
   "file_extension": ".py",
   "mimetype": "text/x-python",
   "name": "python",
   "nbconvert_exporter": "python",
   "pygments_lexer": "ipython3",
   "version": "3.8.5"
  }
 },
 "nbformat": 4,
 "nbformat_minor": 4
}
